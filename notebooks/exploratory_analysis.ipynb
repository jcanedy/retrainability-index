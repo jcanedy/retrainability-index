{
 "cells": [
  {
   "cell_type": "code",
   "execution_count": 2,
   "id": "57a14d9f",
   "metadata": {},
   "outputs": [],
   "source": [
    "from sklearn.ensemble import RandomForestClassifier\n",
    "from sklearn.preprocessing import LabelEncoder\n",
    "import numpy as np\n",
    "import polars as pl\n",
    "from itertools import combinations"
   ]
  },
  {
   "cell_type": "code",
   "execution_count": 3,
   "id": "b0629777",
   "metadata": {},
   "outputs": [],
   "source": [
    "data = pl.scan_parquet(\"../data/processed/wioa_data_tier2.parquet\")"
   ]
  },
  {
   "cell_type": "code",
   "execution_count": 6,
   "id": "cf81e300",
   "metadata": {},
   "outputs": [],
   "source": [
    "df = data.collect().to_pandas()"
   ]
  },
  {
   "cell_type": "code",
   "execution_count": 19,
   "id": "1aaa09a2",
   "metadata": {},
   "outputs": [
    {
     "data": {
      "text/plain": [
       "0.11326879693275575"
      ]
     },
     "execution_count": 19,
     "metadata": {},
     "output_type": "execute_result"
    }
   ],
   "source": [
    "df_with_occupations = df[\"occupation_code_x\"].dropna()\n",
    "\n",
    "num_transportation =  len(df_with_occupations[df_with_occupations.astype(str).str.startswith(\"53\")])\n",
    "total = len(df_with_occupations)\n",
    "\n",
    "num_transportation / total"
   ]
  },
  {
   "cell_type": "code",
   "execution_count": 26,
   "id": "bfea4a34",
   "metadata": {},
   "outputs": [
    {
     "data": {
      "text/plain": [
       "occupation_title_x\n",
       "Customer Service Representatives                                 6913\n",
       "Home Health Aides                                                4906\n",
       "Stockers and Order Fillers                                       4732\n",
       "Nursing Assistants                                               4476\n",
       "Personal Care Aides                                              3940\n",
       "Cashiers                                                         3725\n",
       "General and Operations Managers                                  3637\n",
       "Retail Salespersons                                              3332\n",
       "Laborers and Freight, Stock, and Material Movers, Hand           3057\n",
       "Janitors and Cleaners, Except Maids and Housekeeping Cleaners    2941\n",
       "Light Truck Drivers                                              2866\n",
       "Security Guards                                                  2795\n",
       "Sales Managers                                                   2603\n",
       "Heavy and Tractor-Trailer Truck Drivers                          2170\n",
       "Production Workers, All Other                                    2157\n",
       "Construction Laborers                                            2071\n",
       "Receptionists and Information Clerks                             1941\n",
       "Waiters and Waitresses                                           1936\n",
       "Managers, All Other                                              1892\n",
       "Fast Food and Counter Workers                                    1753\n",
       "Name: occupation_code_x, dtype: int64"
      ]
     },
     "execution_count": 26,
     "metadata": {},
     "output_type": "execute_result"
    }
   ],
   "source": [
    "df.groupby(by=[\"occupation_title_x\"])[\"occupation_code_x\"].count().sort_values(ascending=False).head(20)"
   ]
  },
  {
   "cell_type": "code",
   "execution_count": 21,
   "id": "941cf0f1",
   "metadata": {},
   "outputs": [
    {
     "name": "stdout",
     "output_type": "stream",
     "text": [
      "shape: (89, 3)\n",
      "┌─────────────────────────────────┬────────┬────────────┐\n",
      "│ industry_title_y                ┆ count  ┆ percentage │\n",
      "│ ---                             ┆ ---    ┆ ---        │\n",
      "│ str                             ┆ u32    ┆ f64        │\n",
      "╞═════════════════════════════════╪════════╪════════════╡\n",
      "│ Administrative and support ser… ┆ 361492 ┆ 16.490197  │\n",
      "│ Federal government, excluding … ┆ 185096 ┆ 8.443533   │\n",
      "│ Food services and drinking pla… ┆ 141715 ┆ 6.46462    │\n",
      "│ Professional, scientific, and … ┆ 113057 ┆ 5.157326   │\n",
      "│ Ambulatory healthcare services  ┆ 89054  ┆ 4.06238    │\n",
      "│ Social assistance               ┆ 81069  ┆ 3.698128   │\n",
      "│ Specialty trade contractors     ┆ 74398  ┆ 3.393817   │\n",
      "│ Educational services; state, l… ┆ 69774  ┆ 3.182884   │\n",
      "│ Nursing and residential care f… ┆ 58497  ┆ 2.66846    │\n",
      "│ General merchandise retailers   ┆ 51362  ┆ 2.342983   │\n",
      "│ Hospitals; state, local, and p… ┆ 45865  ┆ 2.092226   │\n",
      "│ Food manufacturing              ┆ 38553  ┆ 1.758674   │\n",
      "│ Merchant wholesalers, durable … ┆ 36204  ┆ 1.65152    │\n",
      "│ Food and beverage retailers     ┆ 35401  ┆ 1.614889   │\n",
      "│ Transportation equipment manuf… ┆ 35367  ┆ 1.613338   │\n",
      "│ Truck transportation            ┆ 34698  ┆ 1.58282    │\n",
      "│ Accommodation                   ┆ 33626  ┆ 1.533919   │\n",
      "│ Heavy and civil engineering co… ┆ 32048  ┆ 1.461935   │\n",
      "│ Merchant wholesalers, nondurab… ┆ 31015  ┆ 1.414813   │\n",
      "│ Credit intermediation and rela… ┆ 28381  ┆ 1.294657   │\n",
      "│ Insurance carriers and related… ┆ 26685  ┆ 1.217291   │\n",
      "│ Motor vehicle and parts dealer… ┆ 26296  ┆ 1.199546   │\n",
      "│ Construction of buildings       ┆ 26069  ┆ 1.189191   │\n",
      "│ Warehousing and storage         ┆ 25656  ┆ 1.170351   │\n",
      "│ Couriers and messengers         ┆ 22777  ┆ 1.039019   │\n",
      "│ Gasoline stations and fuel dea… ┆ 22090  ┆ 1.007681   │\n",
      "│ Amusement, gambling, and recre… ┆ 21703  ┆ 0.990027   │\n",
      "│ Real estate                     ┆ 21514  ┆ 0.981405   │\n",
      "│ Support activities for agricul… ┆ 20651  ┆ 0.942038   │\n",
      "│ Building material and garden e… ┆ 19186  ┆ 0.875209   │\n",
      "│ Fabricated metal product manuf… ┆ 18986  ┆ 0.866085   │\n",
      "│ Sporting goods, hobby, musical… ┆ 17791  ┆ 0.811573   │\n",
      "│ Transit and ground passenger t… ┆ 17253  ┆ 0.787031   │\n",
      "│ Repair and maintenance          ┆ 17060  ┆ 0.778227   │\n",
      "│ Management of companies and en… ┆ 16414  ┆ 0.748758   │\n",
      "│ Machinery manufacturing         ┆ 15974  ┆ 0.728687   │\n",
      "│ Personal and laundry services   ┆ 14659  ┆ 0.6687     │\n",
      "│ Clothing, clothing accessories… ┆ 14332  ┆ 0.653784   │\n",
      "│ Religious, grantmaking, civic,… ┆ 13628  ┆ 0.621669   │\n",
      "│ Crop production                 ┆ 13468  ┆ 0.61437    │\n",
      "│ Support activities for transpo… ┆ 12807  ┆ 0.584218   │\n",
      "│ Health and personal care retai… ┆ 12806  ┆ 0.584172   │\n",
      "│ Plastics and rubber products m… ┆ 12734  ┆ 0.580887   │\n",
      "│ Furniture, home furnishings, e… ┆ 10628  ┆ 0.484818   │\n",
      "│ Motion picture and sound recor… ┆ 9724   ┆ 0.44358    │\n",
      "│ Chemical manufacturing          ┆ 8863   ┆ 0.404304   │\n",
      "│ Rental and leasing services     ┆ 8593   ┆ 0.391987   │\n",
      "│ Waste management and remediati… ┆ 8263   ┆ 0.376934   │\n",
      "│ Newspaper publishers/ Software… ┆ 7897   ┆ 0.360238   │\n",
      "│ Computer and electronic produc… ┆ 7552   ┆ 0.3445     │\n",
      "│ Nonmetallic mineral product ma… ┆ 7394   ┆ 0.337292   │\n",
      "│ Wood product manufacturing      ┆ 7327   ┆ 0.334236   │\n",
      "│ Performing arts, spectator spo… ┆ 7214   ┆ 0.329081   │\n",
      "│ Telecommunications              ┆ 6804   ┆ 0.310378   │\n",
      "│ Miscellaneous manufacturing     ┆ 6466   ┆ 0.29496    │\n",
      "│ Wholesale trade agents and bro… ┆ 6449   ┆ 0.294184   │\n",
      "│ Electrical equipment, applianc… ┆ 6380   ┆ 0.291037   │\n",
      "│ Media streaming distribution s… ┆ 6220   ┆ 0.283738   │\n",
      "│ Support activities for mining   ┆ 5724   ┆ 0.261112   │\n",
      "│ Primary metal manufacturing     ┆ 5453   ┆ 0.24875    │\n",
      "│ Paper manufacturing             ┆ 5151   ┆ 0.234973   │\n",
      "│ Furniture and related product … ┆ 5147   ┆ 0.234791   │\n",
      "│ Computing infrastructure provi… ┆ 5114   ┆ 0.233286   │\n",
      "│ Securities, commodity contract… ┆ 4983   ┆ 0.22731    │\n",
      "│ Beverage and tobacco product m… ┆ 4589   ┆ 0.209337   │\n",
      "│ Utilities                       ┆ 4196   ┆ 0.191409   │\n",
      "│ Printing and related support a… ┆ 4007   ┆ 0.182788   │\n",
      "│ Mining (except oil and gas)     ┆ 3193   ┆ 0.145655   │\n",
      "│ Air transportation              ┆ 2687   ┆ 0.122573   │\n",
      "│ Textile mills                   ┆ 2608   ┆ 0.118969   │\n",
      "│ Private households              ┆ 1771   ┆ 0.080788   │\n",
      "│ Museums, historical sites, and… ┆ 1726   ┆ 0.078735   │\n",
      "│ Animal production and aquacult… ┆ 1724   ┆ 0.078644   │\n",
      "│ Apparel manufacturing           ┆ 1509   ┆ 0.068836   │\n",
      "│ Forestry and logging            ┆ 1430   ┆ 0.065232   │\n",
      "│ Textile product mills           ┆ 1234   ┆ 0.056291   │\n",
      "│ Web search portals, libraries,… ┆ 1203   ┆ 0.054877   │\n",
      "│ Funds, trusts, and other finan… ┆ 1140   ┆ 0.052003   │\n",
      "│ Petroleum and coal products ma… ┆ 1107   ┆ 0.050498   │\n",
      "│ Leather and allied product man… ┆ 834    ┆ 0.038045   │\n",
      "│ Water transportation            ┆ 655    ┆ 0.029879   │\n",
      "│ Scenic and sightseeing transpo… ┆ 561    ┆ 0.025591   │\n",
      "│ Fishing, hunting and trapping   ┆ 517    ┆ 0.023584   │\n",
      "│ Oil and gas extraction          ┆ 439    ┆ 0.020026   │\n",
      "│ Postal service                  ┆ 161    ┆ 0.007344   │\n",
      "│ Lessors of nonfinancial intang… ┆ 151    ┆ 0.006888   │\n",
      "│ Pipeline transportation         ┆ 119    ┆ 0.005428   │\n",
      "│ Monetary authorities-central b… ┆ 41     ┆ 0.00187    │\n",
      "│ Rail transportation             ┆ 4      ┆ 0.000182   │\n",
      "└─────────────────────────────────┴────────┴────────────┘\n"
     ]
    }
   ],
   "source": [
    "# Compute counts and percentages\n",
    "result = (\n",
    "    data\n",
    "    .select(\n",
    "        pl.col(\"industry_title_y\")\n",
    "        .value_counts()\n",
    "        .alias(\"vc\")\n",
    "    )\n",
    "    .unnest(\"vc\")\n",
    "    .with_columns(\n",
    "        (pl.col(\"count\") / total_count * 100).alias(\"percentage\")\n",
    "    )\n",
    "    .sort(\"count\", descending=True)\n",
    "    .collect()\n",
    ")\n",
    "\n",
    "pl.Config.set_tbl_rows(len(result))\n",
    "\n",
    "print(result)"
   ]
  }
 ],
 "metadata": {
  "kernelspec": {
   "display_name": "retrainability-index",
   "language": "python",
   "name": "python3"
  },
  "language_info": {
   "codemirror_mode": {
    "name": "ipython",
    "version": 3
   },
   "file_extension": ".py",
   "mimetype": "text/x-python",
   "name": "python",
   "nbconvert_exporter": "python",
   "pygments_lexer": "ipython3",
   "version": "3.12.11"
  }
 },
 "nbformat": 4,
 "nbformat_minor": 5
}
